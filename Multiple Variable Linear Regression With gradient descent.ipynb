{
 "cells": [
  {
   "cell_type": "code",
   "execution_count": 1,
   "id": "9b9b0dc8",
   "metadata": {},
   "outputs": [],
   "source": [
    "import pandas as pd\n",
    "import numpy as np"
   ]
  },
  {
   "cell_type": "code",
   "execution_count": 2,
   "id": "9c62bcf0",
   "metadata": {},
   "outputs": [],
   "source": [
    "df = pd.read_csv('supershop.csv')"
   ]
  },
  {
   "cell_type": "code",
   "execution_count": 3,
   "id": "1cba198b",
   "metadata": {},
   "outputs": [
    {
     "data": {
      "text/html": [
       "<div>\n",
       "<style scoped>\n",
       "    .dataframe tbody tr th:only-of-type {\n",
       "        vertical-align: middle;\n",
       "    }\n",
       "\n",
       "    .dataframe tbody tr th {\n",
       "        vertical-align: top;\n",
       "    }\n",
       "\n",
       "    .dataframe thead th {\n",
       "        text-align: right;\n",
       "    }\n",
       "</style>\n",
       "<table border=\"1\" class=\"dataframe\">\n",
       "  <thead>\n",
       "    <tr style=\"text-align: right;\">\n",
       "      <th></th>\n",
       "      <th>Marketing Spend</th>\n",
       "      <th>Administration</th>\n",
       "      <th>Transport</th>\n",
       "      <th>Area</th>\n",
       "      <th>Profit</th>\n",
       "    </tr>\n",
       "  </thead>\n",
       "  <tbody>\n",
       "    <tr>\n",
       "      <th>0</th>\n",
       "      <td>114523.61</td>\n",
       "      <td>136897.80</td>\n",
       "      <td>471784.10</td>\n",
       "      <td>Dhaka</td>\n",
       "      <td>192261.83</td>\n",
       "    </tr>\n",
       "    <tr>\n",
       "      <th>1</th>\n",
       "      <td>162597.70</td>\n",
       "      <td>151377.59</td>\n",
       "      <td>443898.53</td>\n",
       "      <td>Ctg</td>\n",
       "      <td>191792.06</td>\n",
       "    </tr>\n",
       "    <tr>\n",
       "      <th>2</th>\n",
       "      <td>153441.51</td>\n",
       "      <td>101145.55</td>\n",
       "      <td>407934.54</td>\n",
       "      <td>Rangpur</td>\n",
       "      <td>191050.39</td>\n",
       "    </tr>\n",
       "    <tr>\n",
       "      <th>3</th>\n",
       "      <td>144372.41</td>\n",
       "      <td>118671.85</td>\n",
       "      <td>383199.62</td>\n",
       "      <td>Dhaka</td>\n",
       "      <td>182901.99</td>\n",
       "    </tr>\n",
       "    <tr>\n",
       "      <th>4</th>\n",
       "      <td>142107.34</td>\n",
       "      <td>91391.77</td>\n",
       "      <td>366168.42</td>\n",
       "      <td>Rangpur</td>\n",
       "      <td>166187.94</td>\n",
       "    </tr>\n",
       "  </tbody>\n",
       "</table>\n",
       "</div>"
      ],
      "text/plain": [
       "   Marketing Spend  Administration  Transport     Area     Profit\n",
       "0        114523.61       136897.80  471784.10    Dhaka  192261.83\n",
       "1        162597.70       151377.59  443898.53      Ctg  191792.06\n",
       "2        153441.51       101145.55  407934.54  Rangpur  191050.39\n",
       "3        144372.41       118671.85  383199.62    Dhaka  182901.99\n",
       "4        142107.34        91391.77  366168.42  Rangpur  166187.94"
      ]
     },
     "execution_count": 3,
     "metadata": {},
     "output_type": "execute_result"
    }
   ],
   "source": [
    "df.head()"
   ]
  },
  {
   "cell_type": "code",
   "execution_count": 4,
   "id": "bbca4775",
   "metadata": {},
   "outputs": [
    {
     "data": {
      "text/plain": [
       "(50, 5)"
      ]
     },
     "execution_count": 4,
     "metadata": {},
     "output_type": "execute_result"
    }
   ],
   "source": [
    "df.shape"
   ]
  },
  {
   "cell_type": "code",
   "execution_count": 5,
   "id": "58a1cfb8",
   "metadata": {},
   "outputs": [],
   "source": [
    "df.dropna(inplace=True)"
   ]
  },
  {
   "cell_type": "code",
   "execution_count": 6,
   "id": "436aee2b",
   "metadata": {},
   "outputs": [],
   "source": [
    "df.drop_duplicates(inplace=True)"
   ]
  },
  {
   "cell_type": "code",
   "execution_count": 7,
   "id": "c0212d1e",
   "metadata": {},
   "outputs": [],
   "source": [
    "from sklearn.preprocessing import LabelEncoder"
   ]
  },
  {
   "cell_type": "code",
   "execution_count": 8,
   "id": "f193e5ff",
   "metadata": {},
   "outputs": [],
   "source": [
    "le=LabelEncoder()"
   ]
  },
  {
   "cell_type": "code",
   "execution_count": 9,
   "id": "f92103c4",
   "metadata": {},
   "outputs": [],
   "source": [
    "df.Area=le.fit_transform(df.Area)"
   ]
  },
  {
   "cell_type": "code",
   "execution_count": 10,
   "id": "a4f9e600",
   "metadata": {},
   "outputs": [
    {
     "data": {
      "text/html": [
       "<div>\n",
       "<style scoped>\n",
       "    .dataframe tbody tr th:only-of-type {\n",
       "        vertical-align: middle;\n",
       "    }\n",
       "\n",
       "    .dataframe tbody tr th {\n",
       "        vertical-align: top;\n",
       "    }\n",
       "\n",
       "    .dataframe thead th {\n",
       "        text-align: right;\n",
       "    }\n",
       "</style>\n",
       "<table border=\"1\" class=\"dataframe\">\n",
       "  <thead>\n",
       "    <tr style=\"text-align: right;\">\n",
       "      <th></th>\n",
       "      <th>Marketing Spend</th>\n",
       "      <th>Administration</th>\n",
       "      <th>Transport</th>\n",
       "      <th>Area</th>\n",
       "      <th>Profit</th>\n",
       "    </tr>\n",
       "  </thead>\n",
       "  <tbody>\n",
       "    <tr>\n",
       "      <th>0</th>\n",
       "      <td>114523.61</td>\n",
       "      <td>136897.80</td>\n",
       "      <td>471784.10</td>\n",
       "      <td>1</td>\n",
       "      <td>192261.83</td>\n",
       "    </tr>\n",
       "    <tr>\n",
       "      <th>1</th>\n",
       "      <td>162597.70</td>\n",
       "      <td>151377.59</td>\n",
       "      <td>443898.53</td>\n",
       "      <td>0</td>\n",
       "      <td>191792.06</td>\n",
       "    </tr>\n",
       "    <tr>\n",
       "      <th>2</th>\n",
       "      <td>153441.51</td>\n",
       "      <td>101145.55</td>\n",
       "      <td>407934.54</td>\n",
       "      <td>2</td>\n",
       "      <td>191050.39</td>\n",
       "    </tr>\n",
       "    <tr>\n",
       "      <th>3</th>\n",
       "      <td>144372.41</td>\n",
       "      <td>118671.85</td>\n",
       "      <td>383199.62</td>\n",
       "      <td>1</td>\n",
       "      <td>182901.99</td>\n",
       "    </tr>\n",
       "    <tr>\n",
       "      <th>4</th>\n",
       "      <td>142107.34</td>\n",
       "      <td>91391.77</td>\n",
       "      <td>366168.42</td>\n",
       "      <td>2</td>\n",
       "      <td>166187.94</td>\n",
       "    </tr>\n",
       "  </tbody>\n",
       "</table>\n",
       "</div>"
      ],
      "text/plain": [
       "   Marketing Spend  Administration  Transport  Area     Profit\n",
       "0        114523.61       136897.80  471784.10     1  192261.83\n",
       "1        162597.70       151377.59  443898.53     0  191792.06\n",
       "2        153441.51       101145.55  407934.54     2  191050.39\n",
       "3        144372.41       118671.85  383199.62     1  182901.99\n",
       "4        142107.34        91391.77  366168.42     2  166187.94"
      ]
     },
     "execution_count": 10,
     "metadata": {},
     "output_type": "execute_result"
    }
   ],
   "source": [
    "df.head()"
   ]
  },
  {
   "cell_type": "code",
   "execution_count": 11,
   "id": "1c7564d2",
   "metadata": {},
   "outputs": [
    {
     "data": {
      "text/plain": [
       "(49, 5)"
      ]
     },
     "execution_count": 11,
     "metadata": {},
     "output_type": "execute_result"
    }
   ],
   "source": [
    "df.shape"
   ]
  },
  {
   "cell_type": "code",
   "execution_count": 12,
   "id": "c600dbb8",
   "metadata": {},
   "outputs": [],
   "source": [
    "from sklearn.preprocessing import MinMaxScaler\n",
    "minmax = MinMaxScaler(feature_range=(5, 10))\n",
    "df['Marketing Spend'] = minmax.fit_transform(df[['Marketing Spend']])\n",
    "df['Administration'] = minmax.fit_transform(df[['Administration']])\n",
    "df['Transport'] = minmax.fit_transform(df[['Transport']])"
   ]
  },
  {
   "cell_type": "code",
   "execution_count": 13,
   "id": "9d48a655",
   "metadata": {},
   "outputs": [
    {
     "data": {
      "text/html": [
       "<div>\n",
       "<style scoped>\n",
       "    .dataframe tbody tr th:only-of-type {\n",
       "        vertical-align: middle;\n",
       "    }\n",
       "\n",
       "    .dataframe tbody tr th {\n",
       "        vertical-align: top;\n",
       "    }\n",
       "\n",
       "    .dataframe thead th {\n",
       "        text-align: right;\n",
       "    }\n",
       "</style>\n",
       "<table border=\"1\" class=\"dataframe\">\n",
       "  <thead>\n",
       "    <tr style=\"text-align: right;\">\n",
       "      <th></th>\n",
       "      <th>Marketing Spend</th>\n",
       "      <th>Administration</th>\n",
       "      <th>Transport</th>\n",
       "      <th>Area</th>\n",
       "      <th>Profit</th>\n",
       "    </tr>\n",
       "  </thead>\n",
       "  <tbody>\n",
       "    <tr>\n",
       "      <th>0</th>\n",
       "      <td>8.463083</td>\n",
       "      <td>8.258720</td>\n",
       "      <td>10.000000</td>\n",
       "      <td>1</td>\n",
       "      <td>192261.83</td>\n",
       "    </tr>\n",
       "    <tr>\n",
       "      <th>1</th>\n",
       "      <td>9.916797</td>\n",
       "      <td>8.809859</td>\n",
       "      <td>9.704467</td>\n",
       "      <td>0</td>\n",
       "      <td>191792.06</td>\n",
       "    </tr>\n",
       "    <tr>\n",
       "      <th>2</th>\n",
       "      <td>9.639923</td>\n",
       "      <td>6.897895</td>\n",
       "      <td>9.323318</td>\n",
       "      <td>2</td>\n",
       "      <td>191050.39</td>\n",
       "    </tr>\n",
       "    <tr>\n",
       "      <th>3</th>\n",
       "      <td>9.365682</td>\n",
       "      <td>7.564992</td>\n",
       "      <td>9.061176</td>\n",
       "      <td>1</td>\n",
       "      <td>182901.99</td>\n",
       "    </tr>\n",
       "    <tr>\n",
       "      <th>4</th>\n",
       "      <td>9.297189</td>\n",
       "      <td>6.526640</td>\n",
       "      <td>8.880678</td>\n",
       "      <td>2</td>\n",
       "      <td>166187.94</td>\n",
       "    </tr>\n",
       "  </tbody>\n",
       "</table>\n",
       "</div>"
      ],
      "text/plain": [
       "   Marketing Spend  Administration  Transport  Area     Profit\n",
       "0         8.463083        8.258720  10.000000     1  192261.83\n",
       "1         9.916797        8.809859   9.704467     0  191792.06\n",
       "2         9.639923        6.897895   9.323318     2  191050.39\n",
       "3         9.365682        7.564992   9.061176     1  182901.99\n",
       "4         9.297189        6.526640   8.880678     2  166187.94"
      ]
     },
     "execution_count": 13,
     "metadata": {},
     "output_type": "execute_result"
    }
   ],
   "source": [
    "df.head()"
   ]
  },
  {
   "cell_type": "code",
   "execution_count": 14,
   "id": "5f14c7ae",
   "metadata": {},
   "outputs": [],
   "source": [
    "x1=df['Marketing Spend']\n",
    "y1=df['Profit']"
   ]
  },
  {
   "cell_type": "code",
   "execution_count": 15,
   "id": "30b6e7d9",
   "metadata": {},
   "outputs": [
    {
     "data": {
      "text/plain": [
       "0    8.463083\n",
       "1    9.916797\n",
       "2    9.639923\n",
       "3    9.365682\n",
       "4    9.297189\n",
       "Name: Marketing Spend, dtype: float64"
      ]
     },
     "execution_count": 15,
     "metadata": {},
     "output_type": "execute_result"
    }
   ],
   "source": [
    "x1.head()"
   ]
  },
  {
   "cell_type": "code",
   "execution_count": 16,
   "id": "8566e3cc",
   "metadata": {},
   "outputs": [],
   "source": [
    "def gradd(x,y):\n",
    "    m = 0\n",
    "    c = 0\n",
    "    l = 0.0001\n",
    "\n",
    "    n = int(len(x))\n",
    "    iteration = 30\n",
    "\n",
    "#loop\n",
    "    for i in range(iteration):\n",
    "        predy = (m*x) + c\n",
    "        der_m = (-2/n) * sum(x*(y-predy))\n",
    "        der_c = (-2/n) * sum(y-predy)\n",
    "    \n",
    "        m = (m - ( l * der_m))\n",
    "        c = (c - (l * der_c))\n",
    "        print(m,c)\n",
    "    \n",
    "        \n",
    "    \n",
    "\n",
    "    \n",
    "    "
   ]
  },
  {
   "cell_type": "code",
   "execution_count": 17,
   "id": "b053abe5",
   "metadata": {},
   "outputs": [
    {
     "name": "stdout",
     "output_type": "stream",
     "text": [
      "171.93888125430217 22.358592244897963\n",
      "341.98603054752175 44.46438371051255\n",
      "510.1622712056077 66.3201571605467\n",
      "676.4881973407289 87.92866472729533\n",
      "840.984176374356 109.29262824882196\n",
      "1003.6703515325707 130.4147396024241\n",
      "1164.566644313907 151.29766103442773\n",
      "1323.6927569300287 171.94402548635168\n",
      "1481.0681747195397 192.3564369174818\n",
      "1636.712168535225 212.53747062389422\n",
      "1790.643797105014 232.48967355396712\n",
      "1942.8819093669558 252.21556462041934\n",
      "2093.44514677849 271.71763500891427\n",
      "2242.3519456003014 290.99834848326685\n",
      "2389.6205391550325 310.0601416872908\n",
      "2535.2689600611334 328.9054244433235\n",
      "2679.315042442124 347.53658004746455\n",
      "2821.776424111537 365.95596556156465\n",
      "2962.6705487338077 384.16591210200056\n",
      "3102.0146679613817 402.16872512527095\n",
      "3239.825843548296 419.96668471044893\n",
      "3376.120949440493 437.5620458385252\n",
      "3510.916673843131 454.95703866867643\n",
      "3644.2295212651316 472.1538688114926\n",
      "3776.0758145412265 489.1547175991969\n",
      "3906.4716968317452 505.96174235289084\n",
      "4035.433133600389 522.577076646858\n",
      "4162.975914570236 539.0028305699582\n",
      "4289.115655658214 555.2410909841444\n",
      "4413.867800888281 571.2939217801343\n"
     ]
    }
   ],
   "source": [
    "gradd(x1,y1)"
   ]
  },
  {
   "cell_type": "code",
   "execution_count": 18,
   "id": "929ec95b",
   "metadata": {},
   "outputs": [],
   "source": [
    "x2=df['Administration']\n",
    "y2=df['Profit']"
   ]
  },
  {
   "cell_type": "code",
   "execution_count": 19,
   "id": "e1b18de8",
   "metadata": {},
   "outputs": [
    {
     "name": "stdout",
     "output_type": "stream",
     "text": [
      "172.52908654832754 22.358592244897963\n",
      "342.9708296888128 44.44902840792342\n",
      "511.35047955808363 66.2745523059522\n",
      "677.6929808474017 87.83836851611863\n",
      "842.0229764975678 109.1436428504901\n",
      "1004.3648113491306 130.19350282499954\n",
      "1164.7425357484406 150.99103812270548\n",
      "1323.1799091100816 171.53930105144786\n",
      "1479.7004034362087 191.841306995968\n",
      "1634.3272067933133 211.9000348645592\n",
      "1787.0832267469304 231.71842753031422\n",
      "1937.9910937547975 251.29939226703536\n",
      "2087.0731645189667 270.64580117987117\n",
      "2234.3515252973666 289.760491630744\n",
      "2379.8479951753075 308.64626665863125\n",
      "2523.5841292974073 327.3058953947622\n",
      "2665.5812220604266 345.74211347279305\n",
      "2805.8603102674765 363.9576234340193\n",
      "2944.442176244074 381.9550951276872\n",
      "3081.3473509164996 399.7371661064618\n",
      "3216.5961168529225 417.30644201711226\n",
      "3350.2085112677296 434.66549698646975\n",
      "3482.2043289895196 451.8168740027178\n",
      "3612.6031253931897 468.7630852920694\n",
      "3741.424219296555 485.5066126908879\n",
      "3868.6866958219257 502.0499080133064\n",
      "3994.409409223074 518.3953934143999\n",
      "4118.610985677997 534.5454617489647\n",
      "4241.3098260479 550.5024769259574\n",
      "4362.524108602806 566.2687742586459\n"
     ]
    }
   ],
   "source": [
    "gradd(x2,y2)"
   ]
  },
  {
   "cell_type": "code",
   "execution_count": 20,
   "id": "a032f9be",
   "metadata": {},
   "outputs": [],
   "source": [
    "x3=df['Transport']\n",
    "y3=df['Profit']"
   ]
  },
  {
   "cell_type": "code",
   "execution_count": 21,
   "id": "e0d684af",
   "metadata": {},
   "outputs": [
    {
     "name": "stdout",
     "output_type": "stream",
     "text": [
      "170.73020447248098 22.358592244897963\n",
      "339.5633163028109 44.464057874816326\n",
      "506.52042212703805 66.31921047887877\n",
      "671.6223741981956 87.9268323724912\n",
      "834.8897929915252 109.28967494495659\n",
      "996.3430697807423 130.41045900322604\n",
      "1156.0023691856668 151.29187511182892\n",
      "1313.8876316915348 171.93658392902466\n",
      "1470.0185761403084 192.3472165392182\n",
      "1624.4147021942936 212.52637478168032\n",
      "1777.0952927723754 232.47663157561433\n",
      "1928.0794164591723 252.2005312416097\n",
      "2077.385929887413 271.70058981952235\n",
      "2225.0334800938335 290.97929538282193\n",
      "2371.040506848885 310.03910834944475\n",
      "2515.425244960549 328.8824617891918\n",
      "2658.205726552547 347.51176172770965\n",
      "2799.3997833172193 365.92938744709306\n",
      "2939.0250487433727 384.1376917831455\n",
      "3077.098960319358 402.1390014193364\n",
      "3213.6387617116625 419.9356171774905\n",
      "3348.661504919286 437.529814305246\n",
      "3482.184052404172 454.9238427603183\n",
      "3614.223079197956 472.11992749160294\n",
      "3744.7950749853003 489.12026871715506\n",
      "3873.9163461640683 505.92704219907847\n",
      "4001.6030178826018 522.5423995153594\n",
      "4127.871036054353 538.9684683286788\n",
      "4252.7361693501225 555.2073526522368\n",
      "4376.2140111681565 571.2611331126219\n"
     ]
    }
   ],
   "source": [
    "gradd(x3,y3)"
   ]
  },
  {
   "cell_type": "code",
   "execution_count": 22,
   "id": "5dbd4392",
   "metadata": {},
   "outputs": [],
   "source": [
    "x4=df['Area']\n",
    "y4=df['Profit']"
   ]
  },
  {
   "cell_type": "code",
   "execution_count": 23,
   "id": "5e3ecd1f",
   "metadata": {},
   "outputs": [
    {
     "name": "stdout",
     "output_type": "stream",
     "text": [
      "22.905516367346934 22.358592244897963\n",
      "45.79917292352185 44.70822515997702\n",
      "68.68097529641345 67.04890286065798\n",
      "91.55092911126641 89.38062946043593\n",
      "114.40903999068273 111.70340907088122\n",
      "137.25531355462292 134.01724580164029\n",
      "160.0897554204072 156.3221437604366\n",
      "182.91237120271686 178.61810705307153\n",
      "205.72316651359534 200.90513978342528\n",
      "228.52214696244965 223.18324605345776\n",
      "251.30931815605143 245.45242996320954\n",
      "274.0846856985383 267.71269561080265\n",
      "296.84825519141503 289.9640470924416\n",
      "319.6000322335548 312.2064885024142\n",
      "342.34002242120056 334.44002393309245\n",
      "365.06823134796593 356.6646574749335\n",
      "387.7846646048368 378.88039321648057\n",
      "410.4893277801724 401.0872352443637\n",
      "433.1822264597065 423.28518764330073\n",
      "455.86336622654875 445.47425449609835\n",
      "478.5327526611857 467.6544398836527\n",
      "501.19039134148244 489.8257478849505\n",
      "523.8362878426833 511.98818257706984\n",
      "546.4704477374135 534.1417480351812\n",
      "569.0928765956801 556.286448332548\n",
      "591.7035799848735 578.4222875405281\n",
      "614.3025634697684 600.549269728574\n",
      "636.8898326125253 622.6673989642343\n",
      "659.4653929726915 644.7766793131541\n",
      "682.0292501072023 666.8771148390764\n"
     ]
    }
   ],
   "source": [
    "gradd(x4,y4)"
   ]
  },
  {
   "cell_type": "code",
   "execution_count": 24,
   "id": "ed378ea7",
   "metadata": {},
   "outputs": [
    {
     "data": {
      "text/html": [
       "<div>\n",
       "<style scoped>\n",
       "    .dataframe tbody tr th:only-of-type {\n",
       "        vertical-align: middle;\n",
       "    }\n",
       "\n",
       "    .dataframe tbody tr th {\n",
       "        vertical-align: top;\n",
       "    }\n",
       "\n",
       "    .dataframe thead th {\n",
       "        text-align: right;\n",
       "    }\n",
       "</style>\n",
       "<table border=\"1\" class=\"dataframe\">\n",
       "  <thead>\n",
       "    <tr style=\"text-align: right;\">\n",
       "      <th></th>\n",
       "      <th>Marketing Spend</th>\n",
       "      <th>Administration</th>\n",
       "      <th>Transport</th>\n",
       "      <th>Area</th>\n",
       "      <th>Profit</th>\n",
       "    </tr>\n",
       "  </thead>\n",
       "  <tbody>\n",
       "    <tr>\n",
       "      <th>0</th>\n",
       "      <td>8.463083</td>\n",
       "      <td>8.258720</td>\n",
       "      <td>10.000000</td>\n",
       "      <td>1</td>\n",
       "      <td>192261.83</td>\n",
       "    </tr>\n",
       "    <tr>\n",
       "      <th>1</th>\n",
       "      <td>9.916797</td>\n",
       "      <td>8.809859</td>\n",
       "      <td>9.704467</td>\n",
       "      <td>0</td>\n",
       "      <td>191792.06</td>\n",
       "    </tr>\n",
       "    <tr>\n",
       "      <th>2</th>\n",
       "      <td>9.639923</td>\n",
       "      <td>6.897895</td>\n",
       "      <td>9.323318</td>\n",
       "      <td>2</td>\n",
       "      <td>191050.39</td>\n",
       "    </tr>\n",
       "    <tr>\n",
       "      <th>3</th>\n",
       "      <td>9.365682</td>\n",
       "      <td>7.564992</td>\n",
       "      <td>9.061176</td>\n",
       "      <td>1</td>\n",
       "      <td>182901.99</td>\n",
       "    </tr>\n",
       "    <tr>\n",
       "      <th>4</th>\n",
       "      <td>9.297189</td>\n",
       "      <td>6.526640</td>\n",
       "      <td>8.880678</td>\n",
       "      <td>2</td>\n",
       "      <td>166187.94</td>\n",
       "    </tr>\n",
       "  </tbody>\n",
       "</table>\n",
       "</div>"
      ],
      "text/plain": [
       "   Marketing Spend  Administration  Transport  Area     Profit\n",
       "0         8.463083        8.258720  10.000000     1  192261.83\n",
       "1         9.916797        8.809859   9.704467     0  191792.06\n",
       "2         9.639923        6.897895   9.323318     2  191050.39\n",
       "3         9.365682        7.564992   9.061176     1  182901.99\n",
       "4         9.297189        6.526640   8.880678     2  166187.94"
      ]
     },
     "execution_count": 24,
     "metadata": {},
     "output_type": "execute_result"
    }
   ],
   "source": [
    "df.head()"
   ]
  },
  {
   "cell_type": "code",
   "execution_count": 25,
   "id": "ab9e1e17",
   "metadata": {},
   "outputs": [
    {
     "data": {
      "text/plain": [
       "4609.663077610416"
      ]
     },
     "execution_count": 25,
     "metadata": {},
     "output_type": "execute_result"
    }
   ],
   "source": [
    "x1=8.463083\n",
    "x2=8.258720 \n",
    "x3=10.000000 \n",
    "x4=1\n",
    "m1=171.93888125430217\n",
    "m2=172.52908654832754\n",
    "m3=170.73020447248098\n",
    "m4=22.905516367346934\n",
    "c=22.358592244897963\n",
    "y=m1*x1 + m2*x2 + m3*x3 + c\n",
    "y"
   ]
  },
  {
   "cell_type": "code",
   "execution_count": 26,
   "id": "85ac7311",
   "metadata": {},
   "outputs": [],
   "source": [
    "from sklearn.linear_model import LinearRegression"
   ]
  },
  {
   "cell_type": "code",
   "execution_count": 27,
   "id": "fa680800",
   "metadata": {},
   "outputs": [],
   "source": [
    "lr = LinearRegression()"
   ]
  },
  {
   "cell_type": "code",
   "execution_count": 29,
   "id": "7bb2d1b5",
   "metadata": {},
   "outputs": [],
   "source": [
    "x=df.drop(['Profit'],axis=1)\n",
    "y=df['Profit']"
   ]
  },
  {
   "cell_type": "code",
   "execution_count": 30,
   "id": "0cbefbe2",
   "metadata": {},
   "outputs": [
    {
     "data": {
      "text/html": [
       "<style>#sk-container-id-1 {color: black;background-color: white;}#sk-container-id-1 pre{padding: 0;}#sk-container-id-1 div.sk-toggleable {background-color: white;}#sk-container-id-1 label.sk-toggleable__label {cursor: pointer;display: block;width: 100%;margin-bottom: 0;padding: 0.3em;box-sizing: border-box;text-align: center;}#sk-container-id-1 label.sk-toggleable__label-arrow:before {content: \"▸\";float: left;margin-right: 0.25em;color: #696969;}#sk-container-id-1 label.sk-toggleable__label-arrow:hover:before {color: black;}#sk-container-id-1 div.sk-estimator:hover label.sk-toggleable__label-arrow:before {color: black;}#sk-container-id-1 div.sk-toggleable__content {max-height: 0;max-width: 0;overflow: hidden;text-align: left;background-color: #f0f8ff;}#sk-container-id-1 div.sk-toggleable__content pre {margin: 0.2em;color: black;border-radius: 0.25em;background-color: #f0f8ff;}#sk-container-id-1 input.sk-toggleable__control:checked~div.sk-toggleable__content {max-height: 200px;max-width: 100%;overflow: auto;}#sk-container-id-1 input.sk-toggleable__control:checked~label.sk-toggleable__label-arrow:before {content: \"▾\";}#sk-container-id-1 div.sk-estimator input.sk-toggleable__control:checked~label.sk-toggleable__label {background-color: #d4ebff;}#sk-container-id-1 div.sk-label input.sk-toggleable__control:checked~label.sk-toggleable__label {background-color: #d4ebff;}#sk-container-id-1 input.sk-hidden--visually {border: 0;clip: rect(1px 1px 1px 1px);clip: rect(1px, 1px, 1px, 1px);height: 1px;margin: -1px;overflow: hidden;padding: 0;position: absolute;width: 1px;}#sk-container-id-1 div.sk-estimator {font-family: monospace;background-color: #f0f8ff;border: 1px dotted black;border-radius: 0.25em;box-sizing: border-box;margin-bottom: 0.5em;}#sk-container-id-1 div.sk-estimator:hover {background-color: #d4ebff;}#sk-container-id-1 div.sk-parallel-item::after {content: \"\";width: 100%;border-bottom: 1px solid gray;flex-grow: 1;}#sk-container-id-1 div.sk-label:hover label.sk-toggleable__label {background-color: #d4ebff;}#sk-container-id-1 div.sk-serial::before {content: \"\";position: absolute;border-left: 1px solid gray;box-sizing: border-box;top: 0;bottom: 0;left: 50%;z-index: 0;}#sk-container-id-1 div.sk-serial {display: flex;flex-direction: column;align-items: center;background-color: white;padding-right: 0.2em;padding-left: 0.2em;position: relative;}#sk-container-id-1 div.sk-item {position: relative;z-index: 1;}#sk-container-id-1 div.sk-parallel {display: flex;align-items: stretch;justify-content: center;background-color: white;position: relative;}#sk-container-id-1 div.sk-item::before, #sk-container-id-1 div.sk-parallel-item::before {content: \"\";position: absolute;border-left: 1px solid gray;box-sizing: border-box;top: 0;bottom: 0;left: 50%;z-index: -1;}#sk-container-id-1 div.sk-parallel-item {display: flex;flex-direction: column;z-index: 1;position: relative;background-color: white;}#sk-container-id-1 div.sk-parallel-item:first-child::after {align-self: flex-end;width: 50%;}#sk-container-id-1 div.sk-parallel-item:last-child::after {align-self: flex-start;width: 50%;}#sk-container-id-1 div.sk-parallel-item:only-child::after {width: 0;}#sk-container-id-1 div.sk-dashed-wrapped {border: 1px dashed gray;margin: 0 0.4em 0.5em 0.4em;box-sizing: border-box;padding-bottom: 0.4em;background-color: white;}#sk-container-id-1 div.sk-label label {font-family: monospace;font-weight: bold;display: inline-block;line-height: 1.2em;}#sk-container-id-1 div.sk-label-container {text-align: center;}#sk-container-id-1 div.sk-container {/* jupyter's `normalize.less` sets `[hidden] { display: none; }` but bootstrap.min.css set `[hidden] { display: none !important; }` so we also need the `!important` here to be able to override the default hidden behavior on the sphinx rendered scikit-learn.org. See: https://github.com/scikit-learn/scikit-learn/issues/21755 */display: inline-block !important;position: relative;}#sk-container-id-1 div.sk-text-repr-fallback {display: none;}</style><div id=\"sk-container-id-1\" class=\"sk-top-container\"><div class=\"sk-text-repr-fallback\"><pre>LinearRegression()</pre><b>In a Jupyter environment, please rerun this cell to show the HTML representation or trust the notebook. <br />On GitHub, the HTML representation is unable to render, please try loading this page with nbviewer.org.</b></div><div class=\"sk-container\" hidden><div class=\"sk-item\"><div class=\"sk-estimator sk-toggleable\"><input class=\"sk-toggleable__control sk-hidden--visually\" id=\"sk-estimator-id-1\" type=\"checkbox\" checked><label for=\"sk-estimator-id-1\" class=\"sk-toggleable__label sk-toggleable__label-arrow\">LinearRegression</label><div class=\"sk-toggleable__content\"><pre>LinearRegression()</pre></div></div></div></div></div>"
      ],
      "text/plain": [
       "LinearRegression()"
      ]
     },
     "execution_count": 30,
     "metadata": {},
     "output_type": "execute_result"
    }
   ],
   "source": [
    "lr.fit(x,y)"
   ]
  },
  {
   "cell_type": "code",
   "execution_count": 31,
   "id": "4446d302",
   "metadata": {},
   "outputs": [
    {
     "name": "stderr",
     "output_type": "stream",
     "text": [
      "C:\\Users\\Itu\\anaconda3\\lib\\site-packages\\sklearn\\base.py:450: UserWarning: X does not have valid feature names, but LinearRegression was fitted with feature names\n",
      "  warnings.warn(\n"
     ]
    },
    {
     "data": {
      "text/plain": [
       "array([160343.7567169])"
      ]
     },
     "execution_count": 31,
     "metadata": {},
     "output_type": "execute_result"
    }
   ],
   "source": [
    "lr.predict([[8.463083,8.258720,10.000000,1]])"
   ]
  },
  {
   "cell_type": "code",
   "execution_count": 32,
   "id": "45a4c102",
   "metadata": {},
   "outputs": [
    {
     "data": {
      "text/plain": [
       "-109271.77589428592"
      ]
     },
     "execution_count": 32,
     "metadata": {},
     "output_type": "execute_result"
    }
   ],
   "source": [
    "lr.intercept_"
   ]
  },
  {
   "cell_type": "code",
   "execution_count": 33,
   "id": "00588883",
   "metadata": {},
   "outputs": [
    {
     "data": {
      "text/plain": [
       "array([22256.34394414,   806.35391642,  7516.97198415,  -570.92452269])"
      ]
     },
     "execution_count": 33,
     "metadata": {},
     "output_type": "execute_result"
    }
   ],
   "source": [
    "lr.coef_"
   ]
  },
  {
   "cell_type": "code",
   "execution_count": 35,
   "id": "29224b81",
   "metadata": {},
   "outputs": [],
   "source": [
    "Y_pred = lr.predict(x)"
   ]
  },
  {
   "cell_type": "code",
   "execution_count": 37,
   "id": "99a34683",
   "metadata": {},
   "outputs": [],
   "source": [
    "from sklearn.metrics import r2_score\n",
    "Score = r2_score(y, Y_pred)"
   ]
  },
  {
   "cell_type": "code",
   "execution_count": 38,
   "id": "05d6c1c5",
   "metadata": {},
   "outputs": [
    {
     "data": {
      "text/plain": [
       "0.9044981687538612"
      ]
     },
     "execution_count": 38,
     "metadata": {},
     "output_type": "execute_result"
    }
   ],
   "source": [
    "Score"
   ]
  },
  {
   "cell_type": "code",
   "execution_count": 39,
   "id": "f037e872",
   "metadata": {},
   "outputs": [
    {
     "data": {
      "text/plain": [
       "0.9044981687538612"
      ]
     },
     "execution_count": 39,
     "metadata": {},
     "output_type": "execute_result"
    }
   ],
   "source": [
    "lr.score(x , y)"
   ]
  },
  {
   "cell_type": "code",
   "execution_count": null,
   "id": "6de1a64c",
   "metadata": {},
   "outputs": [],
   "source": []
  }
 ],
 "metadata": {
  "kernelspec": {
   "display_name": "Python 3 (ipykernel)",
   "language": "python",
   "name": "python3"
  },
  "language_info": {
   "codemirror_mode": {
    "name": "ipython",
    "version": 3
   },
   "file_extension": ".py",
   "mimetype": "text/x-python",
   "name": "python",
   "nbconvert_exporter": "python",
   "pygments_lexer": "ipython3",
   "version": "3.9.7"
  }
 },
 "nbformat": 4,
 "nbformat_minor": 5
}
